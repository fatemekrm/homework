{
  "metadata": {
    "language_info": {
      "codemirror_mode": {
        "name": "python",
        "version": 3
      },
      "file_extension": ".py",
      "mimetype": "text/x-python",
      "name": "python",
      "nbconvert_exporter": "python",
      "pygments_lexer": "ipython3",
      "version": "3.8"
    },
    "kernelspec": {
      "name": "python",
      "display_name": "Python (Pyodide)",
      "language": "python"
    }
  },
  "nbformat_minor": 4,
  "nbformat": 4,
  "cells": [
    {
      "cell_type": "markdown",
      "source": "introduction\n\n\n\n\n",
      "metadata": {}
    },
    {
      "cell_type": "markdown",
      "source": "data science languages: python, R , SQL, JULIA,JAVA, C++, scala, JAVAscript and ...\n",
      "metadata": {}
    },
    {
      "cell_type": "markdown",
      "source": "data science libraries: pandas, numpy,matplotlib, seaborn,scikit-learn,keras, tensorflow,pytorch,apache spark,vegas, ggplot2,dplyr,caret,\n",
      "metadata": {}
    },
    {
      "cell_type": "markdown",
      "source": "data science tools\ndata science tools\n\n|tool name| function|\n|----------|---------|\n|python| programming|\n|R|statical programming language|\n|Apache Spark|A general-purpose cluster-computing framework allowing you to process data using compute clusters|\n|C++|A general-purpose programming language. It is an extension of the C programming language or C with Classes|\n|Git|De facto standard for code asset management, also known as version management or version control|\n|Hadoop|Application of Java which manages data processing and storage for big data applications running in clustered systems|\n|Java|Object-oriented programming language|\n|Julia| A language for high-performance numerical analysis and computational science|\n|Jupyter Notebook|A browser-based application that allows you to create and share documents containing code, equations, visualizations, narrative text links, and more|\n|Matplotlib|package for data visualization|\n|NumPy|Libraries are based on arrays and matrices, allowing you to apply mathematical functions to the arrays|\n|RStudio|Unifies programming, execution, debugging, remote data access, data exploration, and visualization into one tool|\n|TensorFlow|Deep Learning library for dataflow that was built with C++|\n|Watson Studio|A fully integrated development environment for data scientists|\n\n\n",
      "metadata": {}
    },
    {
      "cell_type": "code",
      "source": "arthmetic ex",
      "metadata": {},
      "execution_count": null,
      "outputs": []
    },
    {
      "cell_type": "code",
      "source": "(2+3)*5785",
      "metadata": {
        "trusted": true
      },
      "execution_count": 39,
      "outputs": [
        {
          "execution_count": 39,
          "output_type": "execute_result",
          "data": {
            "text/plain": "28925"
          },
          "metadata": {}
        }
      ]
    },
    {
      "cell_type": "code",
      "source": "input_minutes = input(\"Enter the number of minutes: \")\nminutes = int(float(input_minutes))\nhours = minutes // 60\nremaining_minutes = minutes % 60\nprint(f\"{hours:02}:{remaining_minutes:02}\")",
      "metadata": {
        "trusted": true
      },
      "execution_count": 36,
      "outputs": [
        {
          "ename": "<class 'TypeError'>",
          "evalue": "float() argument must be a string or a real number, not 'PyodideFuture'",
          "traceback": [
            "\u001b[0;31m---------------------------------------------------------------------------\u001b[0m",
            "\u001b[0;31mTypeError\u001b[0m                                 Traceback (most recent call last)",
            "Cell \u001b[0;32mIn[36], line 2\u001b[0m\n\u001b[1;32m      1\u001b[0m input_minutes \u001b[38;5;241m=\u001b[39m \u001b[38;5;28minput\u001b[39m(\u001b[38;5;124m\"\u001b[39m\u001b[38;5;124mEnter the number of minutes: \u001b[39m\u001b[38;5;124m\"\u001b[39m)\n\u001b[0;32m----> 2\u001b[0m minutes \u001b[38;5;241m=\u001b[39m \u001b[38;5;28mint\u001b[39m(\u001b[38;5;28;43mfloat\u001b[39;49m\u001b[43m(\u001b[49m\u001b[43minput_minutes\u001b[49m\u001b[43m)\u001b[49m)\n\u001b[1;32m      3\u001b[0m hours \u001b[38;5;241m=\u001b[39m minutes \u001b[38;5;241m/\u001b[39m\u001b[38;5;241m/\u001b[39m \u001b[38;5;241m60\u001b[39m\n\u001b[1;32m      4\u001b[0m remaining_minutes \u001b[38;5;241m=\u001b[39m minutes \u001b[38;5;241m%\u001b[39m \u001b[38;5;241m60\u001b[39m\n",
            "\u001b[0;31mTypeError\u001b[0m: float() argument must be a string or a real number, not 'PyodideFuture'"
          ],
          "output_type": "error"
        },
        {
          "output_type": "stream",
          "name": "stdin",
          "text": "Enter the number of minutes:  970\n"
        }
      ]
    },
    {
      "cell_type": "markdown",
      "source": "list tho objectives",
      "metadata": {}
    },
    {
      "cell_type": "markdown",
      "source": "this notebook is for try to code and undrestand code cell and markdown cell",
      "metadata": {}
    },
    {
      "cell_type": "markdown",
      "source": "## Author name: fateme karimi",
      "metadata": {}
    },
    {
      "cell_type": "markdown",
      "source": "",
      "metadata": {}
    }
  ]
}